{
 "cells": [
  {
   "cell_type": "code",
   "execution_count": 1,
   "id": "a4870540",
   "metadata": {},
   "outputs": [],
   "source": [
    "#imports\n",
    "import numpy as np\n",
    "import pandas as pd\n",
    "import matplotlib.pyplot as plt\n",
    "import seaborn as sns\n",
    "import os, json, math, time\n",
    "from yelpapi import YelpAPI\n",
    "from tqdm.notebook import tqdm_notebook"
   ]
  },
  {
   "cell_type": "code",
   "execution_count": 2,
   "id": "d85fdfd1",
   "metadata": {},
   "outputs": [],
   "source": [
    "# load API credentials\n",
    "with open('/Users/wombatmaster/.secret/yelp_api.json') as f:\n",
    "    creds = json.load(f)\n",
    "# create YelpAPI variable\n",
    "yelp_api = YelpAPI(creds['api-key'], timeout_s=5.0)\n"
   ]
  },
  {
   "cell_type": "code",
   "execution_count": 3,
   "id": "186d684c",
   "metadata": {},
   "outputs": [],
   "source": [
    "#set API call params and file name before first call\n",
    "LOCATION = \"Minneapolis, MN 55401\"\n",
    "TERM = 'Burgers'"
   ]
  },
  {
   "cell_type": "code",
   "execution_count": 4,
   "id": "b6b8da35",
   "metadata": {},
   "outputs": [
    {
     "data": {
      "text/plain": [
       "'Data/Minneapolis_Burgers.json'"
      ]
     },
     "execution_count": 4,
     "metadata": {},
     "output_type": "execute_result"
    }
   ],
   "source": [
    "#create Data folder and JSON file for results\n",
    "FOLDER = \"Data/\"\n",
    "os.makedirs(FOLDER,exist_ok=True)\n",
    "\n",
    "JSON_FILE = f\"Data/Minneapolis_Burgers.json\"\n",
    "JSON_FILE"
   ]
  },
  {
   "cell_type": "code",
   "execution_count": 5,
   "id": "cd7f094f",
   "metadata": {},
   "outputs": [
    {
     "name": "stdout",
     "output_type": "stream",
     "text": [
      "File already exists.\n"
     ]
    }
   ],
   "source": [
    "#JSON file check and creation is it doesn't already exist\n",
    "if os.path.isfile(JSON_FILE)==False:\n",
    "#if file doesn't exist: \n",
    "    print('The file does not exist.Creating empty file')    \n",
    "        \n",
    "#if file exists, print message\n",
    "else:\n",
    "    print('File already exists.')"
   ]
  },
  {
   "cell_type": "code",
   "execution_count": 6,
   "id": "52ea6c8a",
   "metadata": {},
   "outputs": [
    {
     "name": "stdout",
     "output_type": "stream",
     "text": [
      "dict_keys(['businesses', 'total', 'region'])\n"
     ]
    }
   ],
   "source": [
    "#use Yelp_API search_query for API call\n",
    "results = yelp_api.search_query(term=TERM,location = LOCATION)\n",
    "print(results.keys())\n",
    "#save first page of results\n",
    "with open(JSON_FILE,'w') as f:\n",
    "    json.dump(results['businesses'],f)"
   ]
  },
  {
   "cell_type": "code",
   "execution_count": 7,
   "id": "c6bff1c8",
   "metadata": {},
   "outputs": [
    {
     "name": "stdout",
     "output_type": "stream",
     "text": [
      "- 20 previous results found.\n"
     ]
    }
   ],
   "source": [
    "## Load previous results and use len of results for offset\n",
    "with open(JSON_FILE,'r') as f:\n",
    "    previous_results = json.load(f)\n",
    "    \n",
    "## set offset based on previous results\n",
    "n_results = len(previous_results)\n",
    "print(f'- {n_results} previous results found.')"
   ]
  },
  {
   "cell_type": "code",
   "execution_count": 8,
   "id": "927d39d1",
   "metadata": {},
   "outputs": [
    {
     "data": {
      "text/plain": [
       "370"
      ]
     },
     "execution_count": 8,
     "metadata": {},
     "output_type": "execute_result"
    }
   ],
   "source": [
    "#total number of results returned\n",
    "total_results = results['total']\n",
    "total_results"
   ]
  },
  {
   "cell_type": "code",
   "execution_count": 9,
   "id": "28bb4378",
   "metadata": {},
   "outputs": [
    {
     "data": {
      "text/plain": [
       "20"
      ]
     },
     "execution_count": 9,
     "metadata": {},
     "output_type": "execute_result"
    }
   ],
   "source": [
    "#how many results were returned with details\n",
    "results_per_page = len(results['businesses'])\n",
    "results_per_page"
   ]
  },
  {
   "cell_type": "code",
   "execution_count": 10,
   "id": "e5f9036f",
   "metadata": {},
   "outputs": [
    {
     "data": {
      "text/plain": [
       "18"
      ]
     },
     "execution_count": 10,
     "metadata": {},
     "output_type": "execute_result"
    }
   ],
   "source": [
    "#using math.ceil to round up number of result pages\n",
    "n_pages = math.ceil((results['total']-n_results)/ results_per_page)\n",
    "n_pages"
   ]
  },
  {
   "cell_type": "code",
   "execution_count": 11,
   "id": "65dbfce9",
   "metadata": {},
   "outputs": [],
   "source": [
    "#join new results with the old ones using .extend and save to file\n",
    "previous_results.extend(results['businesses'])  \n",
    "with open(JSON_FILE,'w') as f:\n",
    "     json.dump(previous_results,f)"
   ]
  },
  {
   "cell_type": "code",
   "execution_count": 12,
   "id": "085f6d48",
   "metadata": {},
   "outputs": [
    {
     "data": {
      "application/vnd.jupyter.widget-view+json": {
       "model_id": "c41f85eaf16547e1a3169181675945d1",
       "version_major": 2,
       "version_minor": 0
      },
      "text/plain": [
       "  0%|          | 0/18 [00:00<?, ?it/s]"
      ]
     },
     "metadata": {},
     "output_type": "display_data"
    }
   ],
   "source": [
    "#create for loop to append and store the results is the loop interates\n",
    "for i in tqdm_notebook( range(1,n_pages+1)):\n",
    "    time.sleep(.1)\n",
    "    #read results in progress file and check length\n",
    "    with open(JSON_FILE, 'r') as f:\n",
    "        previous_results = json.load(f)\n",
    "    #number of resualts for offset\n",
    "    n_results = len(previous_results)\n",
    "    #set n_results as offset \n",
    "    results = yelp_api.search_query(location=LOCATION,\n",
    "                                    term=TERM, \n",
    "                                    offset=n_results)\n",
    "    \n",
    "    #append new results and save\n",
    "    previous_results.extend(results['businesses'])\n",
    "    \n",
    "    #display(previous_results)\n",
    "    with open(JSON_FILE,'w') as f:\n",
    "        json.dump(previous_results,f)"
   ]
  },
  {
   "cell_type": "code",
   "execution_count": 13,
   "id": "3f62339f",
   "metadata": {},
   "outputs": [
    {
     "data": {
      "text/html": [
       "<div>\n",
       "<style scoped>\n",
       "    .dataframe tbody tr th:only-of-type {\n",
       "        vertical-align: middle;\n",
       "    }\n",
       "\n",
       "    .dataframe tbody tr th {\n",
       "        vertical-align: top;\n",
       "    }\n",
       "\n",
       "    .dataframe thead th {\n",
       "        text-align: right;\n",
       "    }\n",
       "</style>\n",
       "<table border=\"1\" class=\"dataframe\">\n",
       "  <thead>\n",
       "    <tr style=\"text-align: right;\">\n",
       "      <th></th>\n",
       "      <th>id</th>\n",
       "      <th>alias</th>\n",
       "      <th>name</th>\n",
       "      <th>image_url</th>\n",
       "      <th>is_closed</th>\n",
       "      <th>url</th>\n",
       "      <th>review_count</th>\n",
       "      <th>categories</th>\n",
       "      <th>rating</th>\n",
       "      <th>coordinates</th>\n",
       "      <th>transactions</th>\n",
       "      <th>price</th>\n",
       "      <th>location</th>\n",
       "      <th>phone</th>\n",
       "      <th>display_phone</th>\n",
       "      <th>distance</th>\n",
       "    </tr>\n",
       "  </thead>\n",
       "  <tbody>\n",
       "    <tr>\n",
       "      <th>0</th>\n",
       "      <td>MDPv2B2jwA1qLvQCXlEVww</td>\n",
       "      <td>red-cow-minneapolis-minneapolis-3</td>\n",
       "      <td>Red Cow - Minneapolis</td>\n",
       "      <td>https://s3-media2.fl.yelpcdn.com/bphoto/uajR_Z...</td>\n",
       "      <td>False</td>\n",
       "      <td>https://www.yelp.com/biz/red-cow-minneapolis-m...</td>\n",
       "      <td>1119</td>\n",
       "      <td>[{'alias': 'newamerican', 'title': 'American (...</td>\n",
       "      <td>4.5</td>\n",
       "      <td>{'latitude': 44.983574835459336, 'longitude': ...</td>\n",
       "      <td>[delivery]</td>\n",
       "      <td>$$</td>\n",
       "      <td>{'address1': '208 N 1st Ave', 'address2': '', ...</td>\n",
       "      <td>+16122380050</td>\n",
       "      <td>(612) 238-0050</td>\n",
       "      <td>351.471253</td>\n",
       "    </tr>\n",
       "    <tr>\n",
       "      <th>1</th>\n",
       "      <td>RFdLxs7xfDmHSYZQIKiEBw</td>\n",
       "      <td>stray-dog-minneapolis-2</td>\n",
       "      <td>Stray Dog</td>\n",
       "      <td>https://s3-media4.fl.yelpcdn.com/bphoto/fd-T-d...</td>\n",
       "      <td>False</td>\n",
       "      <td>https://www.yelp.com/biz/stray-dog-minneapolis...</td>\n",
       "      <td>128</td>\n",
       "      <td>[{'alias': 'newamerican', 'title': 'American (...</td>\n",
       "      <td>4.5</td>\n",
       "      <td>{'latitude': 44.9888, 'longitude': -93.2549}</td>\n",
       "      <td>[delivery, pickup]</td>\n",
       "      <td>$$</td>\n",
       "      <td>{'address1': '401 E Hennepin Ave', 'address2':...</td>\n",
       "      <td>+16123782855</td>\n",
       "      <td>(612) 378-2855</td>\n",
       "      <td>952.969031</td>\n",
       "    </tr>\n",
       "    <tr>\n",
       "      <th>2</th>\n",
       "      <td>K2ahjZ7QiDJegYQpxtN-KQ</td>\n",
       "      <td>the-fabled-rooster-minneapolis-3</td>\n",
       "      <td>The Fabled Rooster</td>\n",
       "      <td>https://s3-media2.fl.yelpcdn.com/bphoto/_wSqjm...</td>\n",
       "      <td>False</td>\n",
       "      <td>https://www.yelp.com/biz/the-fabled-rooster-mi...</td>\n",
       "      <td>9</td>\n",
       "      <td>[{'alias': 'bbq', 'title': 'Barbeque'}, {'alia...</td>\n",
       "      <td>4.0</td>\n",
       "      <td>{'latitude': 44.98488609666274, 'longitude': -...</td>\n",
       "      <td>[delivery, pickup]</td>\n",
       "      <td>NaN</td>\n",
       "      <td>{'address1': '520 N 4th St', 'address2': 'Fl 1...</td>\n",
       "      <td>+16124704820</td>\n",
       "      <td>(612) 470-4820</td>\n",
       "      <td>928.834252</td>\n",
       "    </tr>\n",
       "    <tr>\n",
       "      <th>3</th>\n",
       "      <td>FLknT5_ky5NI5Kt2ORjLpg</td>\n",
       "      <td>parlour-minneapolis</td>\n",
       "      <td>Parlour</td>\n",
       "      <td>https://s3-media3.fl.yelpcdn.com/bphoto/TK9q_K...</td>\n",
       "      <td>False</td>\n",
       "      <td>https://www.yelp.com/biz/parlour-minneapolis?a...</td>\n",
       "      <td>376</td>\n",
       "      <td>[{'alias': 'newamerican', 'title': 'American (...</td>\n",
       "      <td>4.0</td>\n",
       "      <td>{'latitude': 44.9887275695801, 'longitude': -9...</td>\n",
       "      <td>[pickup]</td>\n",
       "      <td>$$</td>\n",
       "      <td>{'address1': '730 N Washington Ave', 'address2...</td>\n",
       "      <td>+16123543135</td>\n",
       "      <td>(612) 354-3135</td>\n",
       "      <td>1056.376102</td>\n",
       "    </tr>\n",
       "    <tr>\n",
       "      <th>4</th>\n",
       "      <td>mLhJNAjfa2NsGAqjqqrZvg</td>\n",
       "      <td>dream-creamery-minneapolis-2</td>\n",
       "      <td>Dream Creamery</td>\n",
       "      <td>https://s3-media3.fl.yelpcdn.com/bphoto/2v3dyU...</td>\n",
       "      <td>False</td>\n",
       "      <td>https://www.yelp.com/biz/dream-creamery-minnea...</td>\n",
       "      <td>21</td>\n",
       "      <td>[{'alias': 'icecream', 'title': 'Ice Cream &amp; F...</td>\n",
       "      <td>4.5</td>\n",
       "      <td>{'latitude': 45.013044863006236, 'longitude': ...</td>\n",
       "      <td>[]</td>\n",
       "      <td>NaN</td>\n",
       "      <td>{'address1': '816 NE Lowry Ave', 'address2': '...</td>\n",
       "      <td></td>\n",
       "      <td></td>\n",
       "      <td>3385.987254</td>\n",
       "    </tr>\n",
       "  </tbody>\n",
       "</table>\n",
       "</div>"
      ],
      "text/plain": [
       "                       id                              alias  \\\n",
       "0  MDPv2B2jwA1qLvQCXlEVww  red-cow-minneapolis-minneapolis-3   \n",
       "1  RFdLxs7xfDmHSYZQIKiEBw            stray-dog-minneapolis-2   \n",
       "2  K2ahjZ7QiDJegYQpxtN-KQ   the-fabled-rooster-minneapolis-3   \n",
       "3  FLknT5_ky5NI5Kt2ORjLpg                parlour-minneapolis   \n",
       "4  mLhJNAjfa2NsGAqjqqrZvg       dream-creamery-minneapolis-2   \n",
       "\n",
       "                    name                                          image_url  \\\n",
       "0  Red Cow - Minneapolis  https://s3-media2.fl.yelpcdn.com/bphoto/uajR_Z...   \n",
       "1              Stray Dog  https://s3-media4.fl.yelpcdn.com/bphoto/fd-T-d...   \n",
       "2     The Fabled Rooster  https://s3-media2.fl.yelpcdn.com/bphoto/_wSqjm...   \n",
       "3                Parlour  https://s3-media3.fl.yelpcdn.com/bphoto/TK9q_K...   \n",
       "4         Dream Creamery  https://s3-media3.fl.yelpcdn.com/bphoto/2v3dyU...   \n",
       "\n",
       "   is_closed                                                url  review_count  \\\n",
       "0      False  https://www.yelp.com/biz/red-cow-minneapolis-m...          1119   \n",
       "1      False  https://www.yelp.com/biz/stray-dog-minneapolis...           128   \n",
       "2      False  https://www.yelp.com/biz/the-fabled-rooster-mi...             9   \n",
       "3      False  https://www.yelp.com/biz/parlour-minneapolis?a...           376   \n",
       "4      False  https://www.yelp.com/biz/dream-creamery-minnea...            21   \n",
       "\n",
       "                                          categories  rating  \\\n",
       "0  [{'alias': 'newamerican', 'title': 'American (...     4.5   \n",
       "1  [{'alias': 'newamerican', 'title': 'American (...     4.5   \n",
       "2  [{'alias': 'bbq', 'title': 'Barbeque'}, {'alia...     4.0   \n",
       "3  [{'alias': 'newamerican', 'title': 'American (...     4.0   \n",
       "4  [{'alias': 'icecream', 'title': 'Ice Cream & F...     4.5   \n",
       "\n",
       "                                         coordinates        transactions  \\\n",
       "0  {'latitude': 44.983574835459336, 'longitude': ...          [delivery]   \n",
       "1       {'latitude': 44.9888, 'longitude': -93.2549}  [delivery, pickup]   \n",
       "2  {'latitude': 44.98488609666274, 'longitude': -...  [delivery, pickup]   \n",
       "3  {'latitude': 44.9887275695801, 'longitude': -9...            [pickup]   \n",
       "4  {'latitude': 45.013044863006236, 'longitude': ...                  []   \n",
       "\n",
       "  price                                           location         phone  \\\n",
       "0    $$  {'address1': '208 N 1st Ave', 'address2': '', ...  +16122380050   \n",
       "1    $$  {'address1': '401 E Hennepin Ave', 'address2':...  +16123782855   \n",
       "2   NaN  {'address1': '520 N 4th St', 'address2': 'Fl 1...  +16124704820   \n",
       "3    $$  {'address1': '730 N Washington Ave', 'address2...  +16123543135   \n",
       "4   NaN  {'address1': '816 NE Lowry Ave', 'address2': '...                 \n",
       "\n",
       "    display_phone     distance  \n",
       "0  (612) 238-0050   351.471253  \n",
       "1  (612) 378-2855   952.969031  \n",
       "2  (612) 470-4820   928.834252  \n",
       "3  (612) 354-3135  1056.376102  \n",
       "4                  3385.987254  "
      ]
     },
     "metadata": {},
     "output_type": "display_data"
    },
    {
     "data": {
      "text/html": [
       "<div>\n",
       "<style scoped>\n",
       "    .dataframe tbody tr th:only-of-type {\n",
       "        vertical-align: middle;\n",
       "    }\n",
       "\n",
       "    .dataframe tbody tr th {\n",
       "        vertical-align: top;\n",
       "    }\n",
       "\n",
       "    .dataframe thead th {\n",
       "        text-align: right;\n",
       "    }\n",
       "</style>\n",
       "<table border=\"1\" class=\"dataframe\">\n",
       "  <thead>\n",
       "    <tr style=\"text-align: right;\">\n",
       "      <th></th>\n",
       "      <th>id</th>\n",
       "      <th>alias</th>\n",
       "      <th>name</th>\n",
       "      <th>image_url</th>\n",
       "      <th>is_closed</th>\n",
       "      <th>url</th>\n",
       "      <th>review_count</th>\n",
       "      <th>categories</th>\n",
       "      <th>rating</th>\n",
       "      <th>coordinates</th>\n",
       "      <th>transactions</th>\n",
       "      <th>price</th>\n",
       "      <th>location</th>\n",
       "      <th>phone</th>\n",
       "      <th>display_phone</th>\n",
       "      <th>distance</th>\n",
       "    </tr>\n",
       "  </thead>\n",
       "  <tbody>\n",
       "    <tr>\n",
       "      <th>365</th>\n",
       "      <td>ZIsbdA7YFoX8pkUc7OptBQ</td>\n",
       "      <td>seward-co-op-creamery-cafe-minneapolis</td>\n",
       "      <td>Seward Co-op Creamery Cafe</td>\n",
       "      <td>https://s3-media4.fl.yelpcdn.com/bphoto/QAONbn...</td>\n",
       "      <td>False</td>\n",
       "      <td>https://www.yelp.com/biz/seward-co-op-creamery...</td>\n",
       "      <td>80</td>\n",
       "      <td>[{'alias': 'cafes', 'title': 'Cafes'}, {'alias...</td>\n",
       "      <td>3.5</td>\n",
       "      <td>{'latitude': 44.962646542798, 'longitude': -93...</td>\n",
       "      <td>[delivery]</td>\n",
       "      <td>$$</td>\n",
       "      <td>{'address1': '2601 E Franklin Ave', 'address2'...</td>\n",
       "      <td>+16122305575</td>\n",
       "      <td>(612) 230-5575</td>\n",
       "      <td>3458.066591</td>\n",
       "    </tr>\n",
       "    <tr>\n",
       "      <th>366</th>\n",
       "      <td>3NnMbV3UuraqxBzgu67cjA</td>\n",
       "      <td>memory-lanes-and-the-flashback-cafe-minneapolis</td>\n",
       "      <td>Memory Lanes &amp; The Flashback Cafe</td>\n",
       "      <td>https://s3-media1.fl.yelpcdn.com/bphoto/EW8FxQ...</td>\n",
       "      <td>False</td>\n",
       "      <td>https://www.yelp.com/biz/memory-lanes-and-the-...</td>\n",
       "      <td>105</td>\n",
       "      <td>[{'alias': 'bowling', 'title': 'Bowling'}, {'a...</td>\n",
       "      <td>3.5</td>\n",
       "      <td>{'latitude': 44.9564361572266, 'longitude': -9...</td>\n",
       "      <td>[pickup]</td>\n",
       "      <td>$</td>\n",
       "      <td>{'address1': '2520 26th Ave S', 'address2': ''...</td>\n",
       "      <td>+16127216211</td>\n",
       "      <td>(612) 721-6211</td>\n",
       "      <td>3930.404191</td>\n",
       "    </tr>\n",
       "    <tr>\n",
       "      <th>367</th>\n",
       "      <td>_qxnJd-72lSwTd0flnGBaA</td>\n",
       "      <td>mcdonalds-minneapolis-41</td>\n",
       "      <td>McDonald's</td>\n",
       "      <td>https://s3-media2.fl.yelpcdn.com/bphoto/EuslnT...</td>\n",
       "      <td>False</td>\n",
       "      <td>https://www.yelp.com/biz/mcdonalds-minneapolis...</td>\n",
       "      <td>12</td>\n",
       "      <td>[{'alias': 'hotdogs', 'title': 'Fast Food'}, {...</td>\n",
       "      <td>2.5</td>\n",
       "      <td>{'latitude': 44.9488317820602, 'longitude': -9...</td>\n",
       "      <td>[delivery]</td>\n",
       "      <td>$</td>\n",
       "      <td>{'address1': '3110 E Lake St', 'address2': '',...</td>\n",
       "      <td>+16127299005</td>\n",
       "      <td>(612) 729-9005</td>\n",
       "      <td>5010.324248</td>\n",
       "    </tr>\n",
       "    <tr>\n",
       "      <th>368</th>\n",
       "      <td>fIol0ba3o3ZxnAENOStUcw</td>\n",
       "      <td>caribou-coffee-minneapolis-22</td>\n",
       "      <td>Caribou Coffee</td>\n",
       "      <td>https://s3-media2.fl.yelpcdn.com/bphoto/Db3Yrx...</td>\n",
       "      <td>False</td>\n",
       "      <td>https://www.yelp.com/biz/caribou-coffee-minnea...</td>\n",
       "      <td>26</td>\n",
       "      <td>[{'alias': 'coffee', 'title': 'Coffee &amp; Tea'}]</td>\n",
       "      <td>4.0</td>\n",
       "      <td>{'latitude': 44.97393, 'longitude': -93.22483}</td>\n",
       "      <td>[delivery]</td>\n",
       "      <td>$</td>\n",
       "      <td>{'address1': '917 Washington Avenue SE', 'addr...</td>\n",
       "      <td>+16123314121</td>\n",
       "      <td>(612) 331-4121</td>\n",
       "      <td>3405.867192</td>\n",
       "    </tr>\n",
       "    <tr>\n",
       "      <th>369</th>\n",
       "      <td>ok6BVxCW0n3QGFbHWtJlGg</td>\n",
       "      <td>stanleys-on-wheels-minneapolis</td>\n",
       "      <td>Stanley's On Wheels</td>\n",
       "      <td>https://s3-media4.fl.yelpcdn.com/bphoto/9Lvpw2...</td>\n",
       "      <td>False</td>\n",
       "      <td>https://www.yelp.com/biz/stanleys-on-wheels-mi...</td>\n",
       "      <td>9</td>\n",
       "      <td>[{'alias': 'foodtrucks', 'title': 'Food Trucks...</td>\n",
       "      <td>3.0</td>\n",
       "      <td>{'latitude': 45.01677322387695, 'longitude': -...</td>\n",
       "      <td>[]</td>\n",
       "      <td>$</td>\n",
       "      <td>{'address1': '', 'address2': '', 'address3': '...</td>\n",
       "      <td>+16127882529</td>\n",
       "      <td>(612) 788-2529</td>\n",
       "      <td>4552.369630</td>\n",
       "    </tr>\n",
       "  </tbody>\n",
       "</table>\n",
       "</div>"
      ],
      "text/plain": [
       "                         id                                            alias  \\\n",
       "365  ZIsbdA7YFoX8pkUc7OptBQ           seward-co-op-creamery-cafe-minneapolis   \n",
       "366  3NnMbV3UuraqxBzgu67cjA  memory-lanes-and-the-flashback-cafe-minneapolis   \n",
       "367  _qxnJd-72lSwTd0flnGBaA                         mcdonalds-minneapolis-41   \n",
       "368  fIol0ba3o3ZxnAENOStUcw                    caribou-coffee-minneapolis-22   \n",
       "369  ok6BVxCW0n3QGFbHWtJlGg                   stanleys-on-wheels-minneapolis   \n",
       "\n",
       "                                  name  \\\n",
       "365         Seward Co-op Creamery Cafe   \n",
       "366  Memory Lanes & The Flashback Cafe   \n",
       "367                         McDonald's   \n",
       "368                     Caribou Coffee   \n",
       "369                Stanley's On Wheels   \n",
       "\n",
       "                                             image_url  is_closed  \\\n",
       "365  https://s3-media4.fl.yelpcdn.com/bphoto/QAONbn...      False   \n",
       "366  https://s3-media1.fl.yelpcdn.com/bphoto/EW8FxQ...      False   \n",
       "367  https://s3-media2.fl.yelpcdn.com/bphoto/EuslnT...      False   \n",
       "368  https://s3-media2.fl.yelpcdn.com/bphoto/Db3Yrx...      False   \n",
       "369  https://s3-media4.fl.yelpcdn.com/bphoto/9Lvpw2...      False   \n",
       "\n",
       "                                                   url  review_count  \\\n",
       "365  https://www.yelp.com/biz/seward-co-op-creamery...            80   \n",
       "366  https://www.yelp.com/biz/memory-lanes-and-the-...           105   \n",
       "367  https://www.yelp.com/biz/mcdonalds-minneapolis...            12   \n",
       "368  https://www.yelp.com/biz/caribou-coffee-minnea...            26   \n",
       "369  https://www.yelp.com/biz/stanleys-on-wheels-mi...             9   \n",
       "\n",
       "                                            categories  rating  \\\n",
       "365  [{'alias': 'cafes', 'title': 'Cafes'}, {'alias...     3.5   \n",
       "366  [{'alias': 'bowling', 'title': 'Bowling'}, {'a...     3.5   \n",
       "367  [{'alias': 'hotdogs', 'title': 'Fast Food'}, {...     2.5   \n",
       "368     [{'alias': 'coffee', 'title': 'Coffee & Tea'}]     4.0   \n",
       "369  [{'alias': 'foodtrucks', 'title': 'Food Trucks...     3.0   \n",
       "\n",
       "                                           coordinates transactions price  \\\n",
       "365  {'latitude': 44.962646542798, 'longitude': -93...   [delivery]    $$   \n",
       "366  {'latitude': 44.9564361572266, 'longitude': -9...     [pickup]     $   \n",
       "367  {'latitude': 44.9488317820602, 'longitude': -9...   [delivery]     $   \n",
       "368     {'latitude': 44.97393, 'longitude': -93.22483}   [delivery]     $   \n",
       "369  {'latitude': 45.01677322387695, 'longitude': -...           []     $   \n",
       "\n",
       "                                              location         phone  \\\n",
       "365  {'address1': '2601 E Franklin Ave', 'address2'...  +16122305575   \n",
       "366  {'address1': '2520 26th Ave S', 'address2': ''...  +16127216211   \n",
       "367  {'address1': '3110 E Lake St', 'address2': '',...  +16127299005   \n",
       "368  {'address1': '917 Washington Avenue SE', 'addr...  +16123314121   \n",
       "369  {'address1': '', 'address2': '', 'address3': '...  +16127882529   \n",
       "\n",
       "      display_phone     distance  \n",
       "365  (612) 230-5575  3458.066591  \n",
       "366  (612) 721-6211  3930.404191  \n",
       "367  (612) 729-9005  5010.324248  \n",
       "368  (612) 331-4121  3405.867192  \n",
       "369  (612) 788-2529  4552.369630  "
      ]
     },
     "metadata": {},
     "output_type": "display_data"
    }
   ],
   "source": [
    "#load final results as a dataframe\n",
    "results_df = pd.read_json(JSON_FILE)\n",
    "display(results_df.head(), results_df.tail())"
   ]
  },
  {
   "cell_type": "code",
   "execution_count": 14,
   "id": "c05e761a",
   "metadata": {},
   "outputs": [
    {
     "data": {
      "text/plain": [
       "20"
      ]
     },
     "execution_count": 14,
     "metadata": {},
     "output_type": "execute_result"
    }
   ],
   "source": [
    "#check for duplicates\n",
    "results_df.duplicated(subset='id').sum()"
   ]
  },
  {
   "cell_type": "code",
   "execution_count": 16,
   "id": "c27f8f98",
   "metadata": {},
   "outputs": [
    {
     "data": {
      "text/plain": [
       "0"
      ]
     },
     "execution_count": 16,
     "metadata": {},
     "output_type": "execute_result"
    }
   ],
   "source": [
    "#remove duplicates\n",
    "results_df.drop_duplicates(subset='id', inplace=True)\n",
    "results_df.duplicated(subset='id').sum()"
   ]
  },
  {
   "cell_type": "code",
   "execution_count": 17,
   "id": "b9af5da1",
   "metadata": {},
   "outputs": [],
   "source": [
    "#save results to a compressed csv\n",
    "results_df.to_csv('Data/results_minneapolis_burgers.csv.gz', compression='gzip',index=False)"
   ]
  },
  {
   "cell_type": "code",
   "execution_count": null,
   "id": "f53485a3",
   "metadata": {},
   "outputs": [],
   "source": []
  }
 ],
 "metadata": {
  "kernelspec": {
   "display_name": "Python (dojo-env)",
   "language": "python",
   "name": "dojo-env"
  },
  "language_info": {
   "codemirror_mode": {
    "name": "ipython",
    "version": 3
   },
   "file_extension": ".py",
   "mimetype": "text/x-python",
   "name": "python",
   "nbconvert_exporter": "python",
   "pygments_lexer": "ipython3",
   "version": "3.9.12"
  },
  "toc": {
   "base_numbering": 1,
   "nav_menu": {},
   "number_sections": false,
   "sideBar": true,
   "skip_h1_title": false,
   "title_cell": "Table of Contents",
   "title_sidebar": "Contents",
   "toc_cell": false,
   "toc_position": {},
   "toc_section_display": true,
   "toc_window_display": false
  }
 },
 "nbformat": 4,
 "nbformat_minor": 5
}
